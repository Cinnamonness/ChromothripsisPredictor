{
 "cells": [
  {
   "cell_type": "code",
   "execution_count": 12,
   "metadata": {},
   "outputs": [
    {
     "ename": "ModuleNotFoundError",
     "evalue": "No module named 'numpy'",
     "output_type": "error",
     "traceback": [
      "\u001b[1;31m---------------------------------------------------------------------------\u001b[0m",
      "\u001b[1;31mModuleNotFoundError\u001b[0m                       Traceback (most recent call last)",
      "Cell \u001b[1;32mIn[12], line 1\u001b[0m\n\u001b[1;32m----> 1\u001b[0m \u001b[38;5;28;01mfrom\u001b[39;00m \u001b[38;5;21;01mBedGenerator\u001b[39;00m \u001b[38;5;28;01mimport\u001b[39;00m (BreakpointExtractor, FragmentStatistics,\n\u001b[0;32m      2\u001b[0m                       BedGenerator, VCFFileNotFoundError, ChromosomeNotFoundError)\n",
      "File \u001b[1;32m~\\Desktop\\ChromothripsisPredictor\\src\\BedGenerator.py:1\u001b[0m\n\u001b[1;32m----> 1\u001b[0m \u001b[38;5;28;01mimport\u001b[39;00m \u001b[38;5;21;01mnumpy\u001b[39;00m \u001b[38;5;28;01mas\u001b[39;00m \u001b[38;5;21;01mnp\u001b[39;00m\n\u001b[0;32m      2\u001b[0m \u001b[38;5;28;01mimport\u001b[39;00m \u001b[38;5;21;01mpandas\u001b[39;00m \u001b[38;5;28;01mas\u001b[39;00m \u001b[38;5;21;01mpd\u001b[39;00m\n\u001b[0;32m      3\u001b[0m \u001b[38;5;28;01mimport\u001b[39;00m \u001b[38;5;21;01mre\u001b[39;00m\n",
      "\u001b[1;31mModuleNotFoundError\u001b[0m: No module named 'numpy'"
     ]
    }
   ],
   "source": [
    "from BedGenerator import (BreakpointExtractor, FragmentStatistics,\n",
    "                      BedGenerator, VCFFileNotFoundError, ChromosomeNotFoundError)"
   ]
  },
  {
   "cell_type": "markdown",
   "metadata": {},
   "source": [
    "Получение гистограмм распределений разрывов"
   ]
  },
  {
   "cell_type": "code",
   "execution_count": 13,
   "metadata": {},
   "outputs": [
    {
     "ename": "NameError",
     "evalue": "name 'BreakpointExtractor' is not defined",
     "output_type": "error",
     "traceback": [
      "\u001b[1;31m---------------------------------------------------------------------------\u001b[0m",
      "\u001b[1;31mNameError\u001b[0m                                 Traceback (most recent call last)",
      "Cell \u001b[1;32mIn[13], line 2\u001b[0m\n\u001b[0;32m      1\u001b[0m vcf_file \u001b[38;5;241m=\u001b[39m \u001b[38;5;124m\"\u001b[39m\u001b[38;5;124m..\u001b[39m\u001b[38;5;130;01m\\\\\u001b[39;00m\u001b[38;5;124mdata\u001b[39m\u001b[38;5;130;01m\\\\\u001b[39;00m\u001b[38;5;124mERR8521536_structural_variants.vcf\u001b[39m\u001b[38;5;124m\"\u001b[39m\n\u001b[1;32m----> 2\u001b[0m extractor \u001b[38;5;241m=\u001b[39m \u001b[43mBreakpointExtractor\u001b[49m(vcf_file)\n\u001b[0;32m      3\u001b[0m extractor\u001b[38;5;241m.\u001b[39mget_breakpoints_positions()\n\u001b[0;32m      4\u001b[0m extractor\u001b[38;5;241m.\u001b[39mget_fragments_length()\n",
      "\u001b[1;31mNameError\u001b[0m: name 'BreakpointExtractor' is not defined"
     ]
    }
   ],
   "source": [
    "vcf_file = \"..\\\\data\\\\ERR8521536_structural_variants.vcf\"\n",
    "extractor = BreakpointExtractor(vcf_file)\n",
    "extractor.get_breakpoints_positions()\n",
    "extractor.get_fragments_length()\n",
    "extractor.get_bins_of_fragments_normalized()\n",
    "extractor.get_bins_of_fragments_not_normalized()\n",
    "extractor.plot_fragment_length_histogram_by_chromosome_normalized(\"..\\\\output_data\")\n",
    "extractor.plot_fragment_length_histogram_by_chromosome_not_normalized(\"..\\\\output_data\")"
   ]
  },
  {
   "cell_type": "markdown",
   "metadata": {},
   "source": [
    "Получение статистик по каждой хромосоме"
   ]
  },
  {
   "cell_type": "code",
   "execution_count": null,
   "metadata": {},
   "outputs": [],
   "source": [
    "vcf_file = \"..\\\\data\\\\ERR8521536_structural_variants.vcf\"\n",
    "stats = FragmentStatistics(vcf_file)\n",
    "stats.get_fragment_stats(save_dir=\"..\\\\output_data\")"
   ]
  },
  {
   "cell_type": "markdown",
   "metadata": {},
   "source": [
    "Генерация искусственного .bed файла"
   ]
  },
  {
   "cell_type": "code",
   "execution_count": null,
   "metadata": {},
   "outputs": [],
   "source": [
    "vcf_file = \"..\\\\data\\\\ERR8521536_structural_variants.vcf\"\n",
    "new_bed_file = BedGenerator(vcf_file)\n",
    "new_bed_file.generate_bed(output_bed = \"..\\\\output_data\")"
   ]
  }
 ],
 "metadata": {
  "kernelspec": {
   "display_name": "Python 3",
   "language": "python",
   "name": "python3"
  },
  "language_info": {
   "codemirror_mode": {
    "name": "ipython",
    "version": 3
   },
   "file_extension": ".py",
   "mimetype": "text/x-python",
   "name": "python",
   "nbconvert_exporter": "python",
   "pygments_lexer": "ipython3",
   "version": "3.12.9"
  }
 },
 "nbformat": 4,
 "nbformat_minor": 2
}
